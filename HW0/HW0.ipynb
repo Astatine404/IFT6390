{
 "cells": [
  {
   "cell_type": "code",
   "execution_count": 2,
   "id": "0e499f79",
   "metadata": {},
   "outputs": [],
   "source": [
    "import numpy as np"
   ]
  },
  {
   "cell_type": "code",
   "execution_count": 3,
   "id": "f0c5fa9d",
   "metadata": {},
   "outputs": [],
   "source": [
    "import matplotlib.pyplot as plt"
   ]
  },
  {
   "cell_type": "code",
   "execution_count": 4,
   "id": "f5df2c4e",
   "metadata": {},
   "outputs": [],
   "source": [
    "a = np.array([1, 2, 3, 4])"
   ]
  },
  {
   "cell_type": "code",
   "execution_count": 5,
   "id": "27a1c6be",
   "metadata": {},
   "outputs": [
    {
     "data": {
      "text/plain": [
       "numpy.ndarray"
      ]
     },
     "execution_count": 5,
     "metadata": {},
     "output_type": "execute_result"
    }
   ],
   "source": [
    "type(a)"
   ]
  },
  {
   "cell_type": "code",
   "execution_count": 6,
   "id": "31f25d93",
   "metadata": {},
   "outputs": [],
   "source": [
    "x = 1"
   ]
  },
  {
   "cell_type": "code",
   "execution_count": 7,
   "id": "1bd3f9be",
   "metadata": {},
   "outputs": [
    {
     "data": {
      "text/plain": [
       "array([1])"
      ]
     },
     "execution_count": 7,
     "metadata": {},
     "output_type": "execute_result"
    }
   ],
   "source": [
    "a = np.array([x])\n",
    "a"
   ]
  },
  {
   "cell_type": "code",
   "execution_count": 8,
   "id": "f8f40304",
   "metadata": {},
   "outputs": [],
   "source": [
    "a = np.array([1, 2 ,3, 4, 5])\n",
    "b = np.array([2, 3, 4, 5, 6])"
   ]
  },
  {
   "cell_type": "code",
   "execution_count": 9,
   "id": "706bd96c",
   "metadata": {},
   "outputs": [
    {
     "data": {
      "text/plain": [
       "array([ 3,  5,  7,  9, 11])"
      ]
     },
     "execution_count": 9,
     "metadata": {},
     "output_type": "execute_result"
    }
   ],
   "source": [
    "a + b"
   ]
  },
  {
   "cell_type": "code",
   "execution_count": 10,
   "id": "86a5600e",
   "metadata": {
    "scrolled": true
   },
   "outputs": [
    {
     "data": {
      "text/plain": [
       "array([2, 3, 4, 5, 6])"
      ]
     },
     "execution_count": 10,
     "metadata": {},
     "output_type": "execute_result"
    }
   ],
   "source": [
    "a + x"
   ]
  },
  {
   "cell_type": "code",
   "execution_count": 12,
   "id": "597fd112",
   "metadata": {},
   "outputs": [
    {
     "data": {
      "text/plain": [
       "array([ 2,  6, 12, 20, 30])"
      ]
     },
     "execution_count": 12,
     "metadata": {},
     "output_type": "execute_result"
    }
   ],
   "source": [
    "a * b"
   ]
  },
  {
   "cell_type": "code",
   "execution_count": 21,
   "id": "ee983521",
   "metadata": {},
   "outputs": [
    {
     "data": {
      "text/plain": [
       "70"
      ]
     },
     "execution_count": 21,
     "metadata": {},
     "output_type": "execute_result"
    }
   ],
   "source": [
    "dot = np.dot(a, b)\n",
    "dot"
   ]
  },
  {
   "cell_type": "code",
   "execution_count": 18,
   "id": "ef833b9f",
   "metadata": {},
   "outputs": [],
   "source": [
    "m = np.array([[1, 2], [0, -1], [3, 4], [5, 6], [7, 8]])"
   ]
  },
  {
   "cell_type": "code",
   "execution_count": 19,
   "id": "30124b1e",
   "metadata": {},
   "outputs": [
    {
     "data": {
      "text/plain": [
       "array([65, 76])"
      ]
     },
     "execution_count": 19,
     "metadata": {},
     "output_type": "execute_result"
    }
   ],
   "source": [
    "dot = np.dot(a, m)\n",
    "dot"
   ]
  },
  {
   "cell_type": "code",
   "execution_count": 22,
   "id": "13101126",
   "metadata": {},
   "outputs": [],
   "source": [
    "import numpy as np\n",
    "\n",
    "\n",
    "def make_array_from_list(some_list):\n",
    "    return np.array(some_list)\n",
    "\n",
    "\n",
    "def make_array_from_number(num):\n",
    "    return np.array([num])\n",
    "\n",
    "\n",
    "class NumpyBasics:\n",
    "    def add_arrays(self, a, b):\n",
    "        return a + b\n",
    "\n",
    "    def add_array_number(self, a, num):\n",
    "        return a + num\n",
    "\n",
    "    def multiply_elementwise_arrays(self, a, b):\n",
    "        return a * b\n",
    "\n",
    "    def dot_product_arrays(self, a, b):\n",
    "        return np.dot(a, b)\n",
    "\n",
    "    def dot_1d_array_2d_array(self, a, m):\n",
    "        # consider the 2d array to be like a matrix\n",
    "        return np.dot(a, m)"
   ]
  },
  {
   "cell_type": "code",
   "execution_count": 23,
   "id": "a5559e9c",
   "metadata": {},
   "outputs": [
    {
     "data": {
      "text/plain": [
       "array([1, 2])"
      ]
     },
     "execution_count": 23,
     "metadata": {},
     "output_type": "execute_result"
    }
   ],
   "source": [
    "make_array_from_list([1, 2])"
   ]
  },
  {
   "cell_type": "code",
   "execution_count": 25,
   "id": "382d89cb",
   "metadata": {},
   "outputs": [
    {
     "data": {
      "text/plain": [
       "array([1])"
      ]
     },
     "execution_count": 25,
     "metadata": {},
     "output_type": "execute_result"
    }
   ],
   "source": [
    "make_array_from_number(1)"
   ]
  },
  {
   "cell_type": "code",
   "execution_count": 26,
   "id": "22495282",
   "metadata": {},
   "outputs": [],
   "source": [
    "nb = NumpyBasics()"
   ]
  },
  {
   "cell_type": "code",
   "execution_count": 27,
   "id": "94f746d4",
   "metadata": {},
   "outputs": [
    {
     "data": {
      "text/plain": [
       "array([ 3,  5,  7,  9, 11])"
      ]
     },
     "execution_count": 27,
     "metadata": {},
     "output_type": "execute_result"
    }
   ],
   "source": [
    "nb.add_arrays(a, b)"
   ]
  },
  {
   "cell_type": "code",
   "execution_count": 28,
   "id": "059b8280",
   "metadata": {},
   "outputs": [
    {
     "data": {
      "text/plain": [
       "array([ 6,  7,  8,  9, 10])"
      ]
     },
     "execution_count": 28,
     "metadata": {},
     "output_type": "execute_result"
    }
   ],
   "source": [
    "nb.add_array_number(a, 5)"
   ]
  },
  {
   "cell_type": "code",
   "execution_count": 29,
   "id": "0dbaee9f",
   "metadata": {},
   "outputs": [
    {
     "data": {
      "text/plain": [
       "array([ 2,  6, 12, 20, 30])"
      ]
     },
     "execution_count": 29,
     "metadata": {},
     "output_type": "execute_result"
    }
   ],
   "source": [
    "nb.multiply_elementwise_arrays(a, b)"
   ]
  },
  {
   "cell_type": "code",
   "execution_count": 30,
   "id": "224b32a5",
   "metadata": {},
   "outputs": [
    {
     "data": {
      "text/plain": [
       "70"
      ]
     },
     "execution_count": 30,
     "metadata": {},
     "output_type": "execute_result"
    }
   ],
   "source": [
    "nb.dot_product_arrays(a, b)"
   ]
  },
  {
   "cell_type": "code",
   "execution_count": 31,
   "id": "c42db7e4",
   "metadata": {},
   "outputs": [
    {
     "data": {
      "text/plain": [
       "array([81, 95])"
      ]
     },
     "execution_count": 31,
     "metadata": {},
     "output_type": "execute_result"
    }
   ],
   "source": [
    "nb.dot_1d_array_2d_array(b, m)"
   ]
  },
  {
   "cell_type": "code",
   "execution_count": null,
   "id": "82e01d1e",
   "metadata": {},
   "outputs": [],
   "source": []
  }
 ],
 "metadata": {
  "kernelspec": {
   "display_name": "Python 3 (ipykernel)",
   "language": "python",
   "name": "python3"
  },
  "language_info": {
   "codemirror_mode": {
    "name": "ipython",
    "version": 3
   },
   "file_extension": ".py",
   "mimetype": "text/x-python",
   "name": "python",
   "nbconvert_exporter": "python",
   "pygments_lexer": "ipython3",
   "version": "3.7.11"
  }
 },
 "nbformat": 4,
 "nbformat_minor": 5
}
